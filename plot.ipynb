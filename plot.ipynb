{
 "cells": [
  {
   "cell_type": "code",
   "execution_count": null,
   "outputs": [],
   "source": [
    "import matplotlib.pyplot as plt\n",
    "import pandas as pd\n",
    "\n",
    "#\n",
    "pd.set_option('display.max_columns', None)\n",
    "pd.set_option('display.max_rows', None)\n",
    "\n",
    "# Read the data from the csv file\n",
    "data = pd.read_csv('C:\\\\Users\\hoseong\\OneDrive\\Coding\\DA_forum\\전자상거래_및_통신판매_이용시_구매_방식_20230529230805.csv')\n",
    "\n",
    "#한글 글꼴 설정\n",
    "plt.rc('font', family='NanumGothic')\n",
    "plt.rc('axes', unicode_minus=False)\n",
    "\n",
    "data"
   ],
   "metadata": {
    "collapsed": false
   }
  },
  {
   "cell_type": "code",
   "execution_count": null,
   "outputs": [],
   "source": [
    "# 전체\n",
    "all = data.iloc[0:1, 0:25]\n",
    "\n",
    "# 사례수 삭제\n",
    "all = all.drop(\n",
    "        ['사례수 (명)', '사례수 (명).1', '사례수 (명).2', '사례수 (명).3', '사례수 (명).4', '사례수 (명).5', '사례수 (명).6', '사례수 (명).7', ],\n",
    "        axis=1)\n",
    "all"
   ],
   "metadata": {
    "collapsed": false
   }
  },
  {
   "cell_type": "code",
   "execution_count": null,
   "outputs": [],
   "source": [
    "# 성별\n",
    "sex = data.iloc[2:3, 0:25]\n",
    "\n",
    "# 사례수 삭제\n",
    "sex = sex.drop(\n",
    "        ['사례수 (명)', '사례수 (명).1', '사례수 (명).2', '사례수 (명).3', '사례수 (명).4', '사례수 (명).5', '사례수 (명).6', '사례수 (명).7', ],\n",
    "        axis=1)\n",
    "sex"
   ],
   "metadata": {
    "collapsed": false
   }
  },
  {
   "cell_type": "code",
   "execution_count": null,
   "outputs": [],
   "source": [
    "# 연령\n",
    "age = data.iloc[4:10, 0:25]\n",
    "\n",
    "# 사례수 삭제\n",
    "age = age.drop(\n",
    "        ['사례수 (명)', '사례수 (명).1', '사례수 (명).2', '사례수 (명).3', '사례수 (명).4', '사례수 (명).5', '사례수 (명).6', '사례수 (명).7', ],\n",
    "        axis=1)\n",
    "age"
   ],
   "metadata": {
    "collapsed": false
   }
  },
  {
   "cell_type": "code",
   "execution_count": null,
   "outputs": [],
   "source": [
    "# 월평균소득\n",
    "income = data.iloc[11:18, 0:25]\n",
    "\n",
    "# 사례수 삭제\n",
    "income = income.drop(\n",
    "        ['사례수 (명)', '사례수 (명).1', '사례수 (명).2', '사례수 (명).3', '사례수 (명).4', '사례수 (명).5', '사례수 (명).6', '사례수 (명).7', ],\n",
    "        axis=1)\n",
    "income"
   ],
   "metadata": {
    "collapsed": false
   }
  },
  {
   "cell_type": "code",
   "execution_count": null,
   "outputs": [],
   "source": [
    "# 학력\n",
    "education = data.iloc[19:23, 0:25]\n",
    "\n",
    "# 사례수 삭제\n",
    "education = education.drop(\n",
    "        ['사례수 (명)', '사례수 (명).1', '사례수 (명).2', '사례수 (명).3', '사례수 (명).4', '사례수 (명).5', '사례수 (명).6', '사례수 (명).7', ],\n",
    "        axis=1)\n",
    "education"
   ],
   "metadata": {
    "collapsed": false
   }
  },
  {
   "cell_type": "code",
   "execution_count": null,
   "outputs": [],
   "source": [
    "# 지역\n",
    "location = data.iloc[24:40, 0:25]\n",
    "\n",
    "# 사례수 삭제\n",
    "location = location.drop(\n",
    "        ['사례수 (명)', '사례수 (명).1', '사례수 (명).2', '사례수 (명).3', '사례수 (명).4', '사례수 (명).5', '사례수 (명).6', '사례수 (명).7', ],\n",
    "        axis=1)\n",
    "location"
   ],
   "metadata": {
    "collapsed": false
   }
  },
  {
   "cell_type": "code",
   "execution_count": null,
   "outputs": [],
   "source": [
    "# 종사상지위\n",
    "job = data.iloc[43:47, 0:25]\n",
    "\n",
    "# 사례수 삭제\n",
    "job = job.drop(\n",
    "        ['사례수 (명)', '사례수 (명).1', '사례수 (명).2', '사례수 (명).3', '사례수 (명).4', '사례수 (명).5', '사례수 (명).6', '사례수 (명).7', ],\n",
    "        axis=1)\n",
    "\n",
    "job"
   ],
   "metadata": {
    "collapsed": false
   }
  },
  {
   "cell_type": "code",
   "execution_count": null,
   "outputs": [],
   "source": [
    "# 상세직업\n",
    "job_detail = data.iloc[48:61, 0:25]\n",
    "\n",
    "# 사례수 삭제\n",
    "job_detail = job_detail.drop(\n",
    "        ['사례수 (명)', '사례수 (명).1', '사례수 (명).2', '사례수 (명).3', '사례수 (명).4', '사례수 (명).5', '사례수 (명).6', '사례수 (명).7', ],\n",
    "        axis=1)\n",
    "\n",
    "job_detail"
   ],
   "metadata": {
    "collapsed": false
   }
  },
  {
   "cell_type": "code",
   "execution_count": null,
   "outputs": [],
   "source": [
    "# 주택형태\n",
    "house = data.iloc[62:66, 0:25]\n",
    "\n",
    "# 사례수 삭제\n",
    "house = house.drop(\n",
    "        ['사례수 (명)', '사례수 (명).1', '사례수 (명).2', '사례수 (명).3', '사례수 (명).4', '사례수 (명).5', '사례수 (명).6', '사례수 (명).7', ],\n",
    "        axis=1)\n",
    "\n",
    "house"
   ],
   "metadata": {
    "collapsed": false
   }
  },
  {
   "cell_type": "code",
   "execution_count": null,
   "outputs": [],
   "source": [
    "# 가족구성\n",
    "family = data.iloc[67:71, 0:25]\n",
    "\n",
    "# 사례수 삭제\n",
    "family = family.drop(\n",
    "        ['사례수 (명)', '사례수 (명).1', '사례수 (명).2', '사례수 (명).3', '사례수 (명).4', '사례수 (명).5', '사례수 (명).6', '사례수 (명).7'],\n",
    "        axis=1)\n",
    "\n",
    "family"
   ],
   "metadata": {
    "collapsed": false
   }
  },
  {
   "cell_type": "code",
   "execution_count": null,
   "outputs": [],
   "source": [
    "# 가구원수\n",
    "family_num = data.iloc[72:74, 0:25]\n",
    "\n",
    "# 사례수 삭제\n",
    "family_num = family_num.drop(\n",
    "        ['사례수 (명)', '사례수 (명).1', '사례수 (명).2', '사례수 (명).3', '사례수 (명).4', '사례수 (명).5', '사례수 (명).6', '사례수 (명).7'],\n",
    "        axis=1)\n",
    "\n",
    "family_num"
   ],
   "metadata": {
    "collapsed": false
   }
  },
  {
   "cell_type": "code",
   "execution_count": null,
   "outputs": [],
   "source": [
    "# 가구주와의관계\n",
    "relation = data.iloc[75:83, 0:25]\n",
    "\n",
    "# 사례수 삭제\n",
    "relation = relation.drop(\n",
    "        ['사례수 (명)', '사례수 (명).1', '사례수 (명).2', '사례수 (명).3', '사례수 (명).4', '사례수 (명).5', '사례수 (명).6', '사례수 (명).7'],\n",
    "        axis=1)\n",
    "\n",
    "relation"
   ],
   "metadata": {
    "collapsed": false
   }
  },
  {
   "cell_type": "code",
   "execution_count": null,
   "outputs": [],
   "source": [
    "import matplotlib.pyplot as plt\n",
    "import numpy as np\n",
    "\n",
    "def func(pct, allvals):\n",
    "    absolute = int(np.round(pct / 100. * np.sum(allvals)))  # round: 반올림, sum: array 다 더하기\n",
    "    return \"{:.1f}%\\n원본: {:d}%\".format(pct, absolute)\n",
    "\n",
    "\n",
    "wedges, texts, autotexts = plt.pie(all.values[0][0:8].astype(float),\n",
    "                                   autopct= lambda pct: func(pct, all.values[0][0:8].astype(float)),\n",
    "                                   textprops=dict(color=\"w\"))\n",
    "\n",
    "plt.setp(autotexts, size=8, weight=\"bold\")\n",
    "\n",
    "plt.legend(wedges,\n",
    "           [\"TV 홈쇼핑 - 전용 앱 구매 (%)\", \"TV 홈쇼핑 - 쇼핑몰 홈페이지/카페 등 인터넷 접속을 통한 온라인구매 (%)\", \"국내 온라인 쇼핑몰 (%) - 전용 앱 구매 (%)\",\n",
    "            \"국내 온라인 쇼핑몰 (%) - 쇼핑몰 홈페이지/카페 등 인터넷 접속을 통한 온라인구매 (%)\", \"해외직구 (%) - 전용 앱 구매 (%)\",\n",
    "            \"해외직구 (%) - 쇼핑몰 홈페이지/카페 등 인터넷 접속을 통한 온라인구매 (%)\", \"개인 간 거래 (%) - 전용 앱 구매 (%)\",\n",
    "            \"개인 간 거래 (%) - 쇼핑몰 홈페이지/카페 등 인터넷 접속을 통한 온라인구매 (%)\"],\n",
    "           loc=\"center left\",\n",
    "           bbox_to_anchor=(1, 0, 0.5, 1))\n",
    "\n",
    "plt.xticks(rotation=90)\n",
    "plt.title(\"2021 전체 비율\")\n",
    "plt.show()"
   ],
   "metadata": {
    "collapsed": false
   }
  },
  {
   "cell_type": "code",
   "execution_count": null,
   "outputs": [],
   "source": [
    "import matplotlib.pyplot as plt\n",
    "import numpy as np\n",
    "\n",
    "def func(pct, allvals):\n",
    "    absolute = int(np.round(pct / 100. * np.sum(allvals)))  # round: 반올림, sum: array 다 더하기\n",
    "    return \"{:.1f}%\\n원값: {:d}%\".format(pct, absolute)\n",
    "\n",
    "# all, sex, age, income, education, job, job_detail, house, family, family_num, relation\n",
    "data_and_titles = [\n",
    "    (all.values[0][0:8].astype(float), \"2021 전체\"),    (all.values[0][9:16].astype(float), \"2022 전체\"),\n",
    "        (sex.values[0][0:8].astype(float), \"2021 성별\"), (sex.values[0][9:16].astype(float), \"2022 성별\"),\n",
    "        (age.values[0][0:8].astype(float), \"2021 연령\"), (age.values[0][9:16].astype(float), \"2022 연령\"),\n",
    "        (income.values[0][0:8].astype(float), \"2021 월평균소득\"), (income.values[0][9:16].astype(float), \"2022 월평균소득\"),\n",
    "        (education.values[0][0:8].astype(float), \"2021 학력\"), (education.values[0][9:16].astype(float), \"2022 학력\"),\n",
    "        (location.values[0][0:8].astype(float), \"2021 지역\"), (location.values[0][9:16].astype(float), \"2022 지역\"),\n",
    "        (job.values[0][0:8].astype(float), \"2021 종사상지위\"), (job.values[0][9:16].astype(float), \"2022 종사상지위\"),\n",
    "        (job_detail.values[0][0:8].astype(float), \"2021 상세직업\"), (job_detail.values[0][9:16].astype(float), \"2022 상세직업\"),\n",
    "        (house.values[0][0:8].astype(float), \"2021 주택형태\"), (house.values[0][9:16].astype(float), \"2022 주택형태\"),\n",
    "        (family.values[0][0:8].astype(float), \"2021 가족구성\"), (family.values[0][9:16].astype(float), \"2022 가족구성\"),\n",
    "        (family_num.values[0][0:8].astype(float), \"2021 가구원수\"), (family_num.values[0][9:16].astype(float), \"2022 가구원수\"),\n",
    "        (relation.values[0][0:8].astype(float), \"2021 가구주와의관계\"), (relation.values[0][9:16].astype(float), \"2022 가구주와의관계\"),\n",
    "\n",
    "]\n",
    "\n",
    "for data, title in data_and_titles:\n",
    "    wedges, texts, autotexts = plt.pie(data,\n",
    "                                       autopct= lambda pct: func(pct, data),\n",
    "                                       textprops=dict(color=\"w\"))\n",
    "\n",
    "    plt.setp(autotexts, size=8, weight=\"bold\")\n",
    "\n",
    "    plt.legend(wedges,\n",
    "               [\"TV 홈쇼핑 - 전용 앱 구매 (%)\", \"TV 홈쇼핑 - 쇼핑몰 홈페이지/카페 등 인터넷 접속을 통한 온라인구매 (%)\", \"국내 온라인 쇼핑몰 (%) - 전용 앱 구매 (%)\",\n",
    "                \"국내 온라인 쇼핑몰 (%) - 쇼핑몰 홈페이지/카페 등 인터넷 접속을 통한 온라인구매 (%)\", \"해외직구 (%) - 전용 앱 구매 (%)\",\n",
    "                \"해외직구 (%) - 쇼핑몰 홈페이지/카페 등 인터넷 접속을 통한 온라인구매 (%)\", \"개인 간 거래 (%) - 전용 앱 구매 (%)\",\n",
    "                \"개인 간 거래 (%) - 쇼핑몰 홈페이지/카페 등 인터넷 접속을 통한 온라인구매 (%)\"],\n",
    "               loc=\"center left\",\n",
    "               bbox_to_anchor=(1, 0, 0.5, 1))\n",
    "\n",
    "    plt.xticks(rotation=90)\n",
    "    plt.title(title)\n",
    "    plt.show()"
   ],
   "metadata": {
    "collapsed": false
   }
  }
 ],
 "metadata": {
  "kernelspec": {
   "display_name": "Python 3",
   "language": "python",
   "name": "python3"
  },
  "language_info": {
   "codemirror_mode": {
    "name": "ipython",
    "version": 2
   },
   "file_extension": ".py",
   "mimetype": "text/x-python",
   "name": "python",
   "nbconvert_exporter": "python",
   "pygments_lexer": "ipython2",
   "version": "2.7.6"
  }
 },
 "nbformat": 4,
 "nbformat_minor": 0
}
